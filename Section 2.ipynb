{
 "cells": [
  {
   "cell_type": "code",
   "execution_count": 1,
   "id": "7aac5cbd",
   "metadata": {},
   "outputs": [
    {
     "name": "stdout",
     "output_type": "stream",
     "text": [
      "Would you like some advice-Y/NY\n",
      "Always know where the towel is\n"
     ]
    }
   ],
   "source": [
    "#prog20\n",
    "var=input(\"Would you like some advice-Y/N\")\n",
    "if var==\"Y\":\n",
    "    print(\"Always know where the towel is\")\n",
    "    "
   ]
  },
  {
   "cell_type": "code",
   "execution_count": 2,
   "id": "5cdec285",
   "metadata": {},
   "outputs": [
    {
     "name": "stdout",
     "output_type": "stream",
     "text": [
      "What is Blacks score23\n",
      "What is White's score34\n",
      "After 6.5 is added the score is\n",
      "Black= 23.0\n",
      "White= 40.5\n",
      "White is the winner\n"
     ]
    }
   ],
   "source": [
    "#prog21\n",
    "var1=float(input(\"What is Blacks score\"))\n",
    "var2=float(input(\"What is White's score\"))\n",
    "var3=var2+6.5\n",
    "print(\"After 6.5 is added the score is\")\n",
    "print(\"Black=\",var1)\n",
    "print(\"White=\",var3)\n",
    "if var3>var1:\n",
    "    print(\"White is the winner\")\n",
    "if var3<var1:\n",
    "    print(\"Black is the winner\")"
   ]
  },
  {
   "cell_type": "code",
   "execution_count": 5,
   "id": "b5e29577",
   "metadata": {},
   "outputs": [
    {
     "name": "stdout",
     "output_type": "stream",
     "text": [
      "Please enter the first amount raised234\n",
      "Please enter the second amount raised345\n",
      "Please enter the third amount raised678\n",
      "A total of 1257 was raised\n",
      "This will be doubled to 2514\n"
     ]
    }
   ],
   "source": [
    "#prog22\n",
    "var1=int(input(\"Please enter the first amount raised\"))\n",
    "var2=int(input(\"Please enter the second amount raised\"))\n",
    "var3=int(input(\"Please enter the third amount raised\"))\n",
    "total=var1+var2+var3\n",
    "print(\"A total of\",total,\"was raised\")\n",
    "if total>1000:\n",
    "    total=2*total\n",
    "    print(\"This will be doubled to\",total)\n",
    "\n"
   ]
  },
  {
   "cell_type": "code",
   "execution_count": 6,
   "id": "4306a116",
   "metadata": {},
   "outputs": [
    {
     "name": "stdout",
     "output_type": "stream",
     "text": [
      "Please enter the following values in centimetres\n",
      "Rect1\n",
      "Please enter the length of the rectangle 2\n",
      "Please enter the width of the rectangle12\n",
      "The area of the rectangle 1 is:\n",
      "24 square centimetres\n",
      "Rect2\n",
      "Please enter the length of the rectangle12\n",
      "Please enter the width of the rectangle5\n",
      "The area of the rectangle 2 is:\n",
      "60 square centimetres\n",
      "Rect 2 has the largest area\n"
     ]
    }
   ],
   "source": [
    "#prog23\n",
    "print(\"Please enter the following values in centimetres\")\n",
    "print(\"Rect1\")\n",
    "leng1=int(input(\"Please enter the length of the rectangle\"))\n",
    "bred1=int(input(\"Please enter the width of the rectangle\"))\n",
    "area1=leng1*bred1\n",
    "print(\"The area of the rectangle 1 is:\")\n",
    "print(area1,\"square centimetres\")\n",
    "print(\"Rect2\")\n",
    "leng2=int(input(\"Please enter the length of the rectangle\"))\n",
    "bred2=int(input(\"Please enter the width of the rectangle\"))\n",
    "area2=leng2*bred2\n",
    "print(\"The area of the rectangle 2 is:\")\n",
    "print(area2,\"square centimetres\")\n",
    "if area1>area2:\n",
    "    print(\"Rect 1 has the largest area\")\n",
    "if area1<area2:\n",
    "    print(\"Rect 2 has the largest area\")"
   ]
  },
  {
   "cell_type": "code",
   "execution_count": 12,
   "id": "af1599c9",
   "metadata": {},
   "outputs": [
    {
     "name": "stdout",
     "output_type": "stream",
     "text": [
      "Enter sentence 1you cant handle this!\n",
      "Enter sentence 2houstaon we have a problem\n",
      "The percentage of vowels in sentence 1 is 28.57\n",
      "The percentage of vowels in sentence 2 is 38.46\n",
      "Sen1 has 6 vowels\n",
      "Sen2 has 10 vowels\n",
      "Sentence 2 has more vowels\n"
     ]
    }
   ],
   "source": [
    "#prog24\n",
    "sen1=input(\"Enter sentence 1\")\n",
    "sen2=input(\"Enter sentence 2\")\n",
    "sen3=sen1.lower()\n",
    "sen4=sen2.lower()\n",
    "var1= sen3.count(\"a\")+sen3.count(\"e\")+sen3.count(\"i\")+sen3.count(\"o\")+sen3.count(\"u\")\n",
    "var2=sen4.count(\"a\")+sen4.count(\"e\")+sen4.count(\"i\")+sen4.count(\"o\")+sen4.count(\"u\")\n",
    "per1=100*(var1/len(sen1))\n",
    "per2=100*(var2/len(sen2))\n",
    "per3=round(per1,2)\n",
    "per4=round(per2,2)\n",
    "print(\"The percentage of vowels in sentence 1 is\",per3)\n",
    "print(\"The percentage of vowels in sentence 2 is\",per4)\n",
    "print(\"Sen1 has\",var1,\"vowels\")\n",
    "print(\"Sen2 has\",var2,\"vowels\")\n",
    "if var1>var2:\n",
    "    print(\"Sentence 1 has more vowels\")\n",
    "if var1<var2:\n",
    "    print(\"Sentence 2 has more vowels\")\n"
   ]
  },
  {
   "cell_type": "code",
   "execution_count": 13,
   "id": "ba033698",
   "metadata": {},
   "outputs": [
    {
     "name": "stdout",
     "output_type": "stream",
     "text": [
      "Would you like some advice-Y/Nn\n",
      "Sorry, you were asked to enter Y/N\n"
     ]
    }
   ],
   "source": [
    "#prog25\n",
    "var=input(\"Would you like some advice-Y/N\")\n",
    "if var==\"Y\":\n",
    "    print(\"Always know where the towel is\")\n",
    "elif var==\"N\":\n",
    "    print(\"Ok, Thank you\")\n",
    "else:\n",
    "    print(\"Sorry, you were asked to enter Y/N\")"
   ]
  },
  {
   "cell_type": "code",
   "execution_count": 14,
   "id": "3a624fa5",
   "metadata": {},
   "outputs": [
    {
     "name": "stdout",
     "output_type": "stream",
     "text": [
      "Please enter the test speed(mph)30\n",
      "Please enter the tested stopping distance34\n",
      "You failed the braking test\n"
     ]
    }
   ],
   "source": [
    "#prog26\n",
    "import math\n",
    "speed=float(input(\"Please enter the test speed(mph)\"))\n",
    "dis=float(input(\"Please enter the tested stopping distance\"))\n",
    "if speed==30:\n",
    "    if dis<14:\n",
    "        print(\"You passed the braking test\")\n",
    "    elif dis>=14:\n",
    "        print(\"You failed the braking test\")\n",
    "if speed==50:\n",
    "    if dis<38:\n",
    "        print(\"You passed the braking test\")\n",
    "    elif dis>=38:\n",
    "        print(\"You failed the braking test\")\n",
    "    "
   ]
  },
  {
   "cell_type": "code",
   "execution_count": 16,
   "id": "e89dd3f4",
   "metadata": {},
   "outputs": [
    {
     "name": "stdout",
     "output_type": "stream",
     "text": [
      "Please enter the first amount raised1000\n",
      "Please enter the second amount raised500\n",
      "Please enter the third amount raised1000\n",
      "A total of 2500 was raised\n",
      "With the company bonus, this is 4500\n"
     ]
    }
   ],
   "source": [
    "#prog27\n",
    "var1=int(input(\"Please enter the first amount raised\"))\n",
    "var2=int(input(\"Please enter the second amount raised\"))\n",
    "var3=int(input(\"Please enter the third amount raised\"))\n",
    "total=var1+var2+var3\n",
    "print(\"A total of\",total,\"was raised\")\n",
    "if total<1000:\n",
    "    total=total+100\n",
    "elif 1000<=total<=2000:\n",
    "    total=2*total\n",
    "elif total>2000:\n",
    "    total=2*2000+(total-2000)\n",
    "print(\"With the company bonus, this is\",total)"
   ]
  },
  {
   "cell_type": "code",
   "execution_count": null,
   "id": "81596af0",
   "metadata": {},
   "outputs": [],
   "source": []
  }
 ],
 "metadata": {
  "kernelspec": {
   "display_name": "Python 3",
   "language": "python",
   "name": "python3"
  },
  "language_info": {
   "codemirror_mode": {
    "name": "ipython",
    "version": 3
   },
   "file_extension": ".py",
   "mimetype": "text/x-python",
   "name": "python",
   "nbconvert_exporter": "python",
   "pygments_lexer": "ipython3",
   "version": "3.8.8"
  }
 },
 "nbformat": 4,
 "nbformat_minor": 5
}
